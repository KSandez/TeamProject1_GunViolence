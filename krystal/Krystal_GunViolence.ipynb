{
 "cells": [
  {
   "cell_type": "code",
   "execution_count": 99,
   "metadata": {},
   "outputs": [],
   "source": [
    "#! pip install plotly"
   ]
  },
  {
   "cell_type": "code",
   "execution_count": 200,
   "metadata": {
    "scrolled": true
   },
   "outputs": [],
   "source": [
    "import pandas as pd\n",
    "from config import api_key\n",
    "import plotly.plotly as py\n",
    "import plotly\n",
    "plotly.tools.set_credentials_file(username='ksandez', api_key=api_key)\n",
    "import plotly.graph_objs as go\n",
    "import gzip\n",
    "import numpy as np\n",
    "import matplotlib.pyplot as plt\n",
    "import seaborn as sns"
   ]
  },
  {
   "cell_type": "markdown",
   "metadata": {},
   "source": [
    "### Stanford Mass Shootings of America Dataset & then plot in Pie chart"
   ]
  },
  {
   "cell_type": "code",
   "execution_count": 147,
   "metadata": {},
   "outputs": [
    {
     "data": {
      "text/html": [
       "<div>\n",
       "<style scoped>\n",
       "    .dataframe tbody tr th:only-of-type {\n",
       "        vertical-align: middle;\n",
       "    }\n",
       "\n",
       "    .dataframe tbody tr th {\n",
       "        vertical-align: top;\n",
       "    }\n",
       "\n",
       "    .dataframe thead th {\n",
       "        text-align: right;\n",
       "    }\n",
       "</style>\n",
       "<table border=\"1\" class=\"dataframe\">\n",
       "  <thead>\n",
       "    <tr style=\"text-align: right;\">\n",
       "      <th></th>\n",
       "      <th>CaseID</th>\n",
       "      <th>Title</th>\n",
       "      <th>Location</th>\n",
       "      <th>City</th>\n",
       "      <th>State</th>\n",
       "      <th>Abbrev</th>\n",
       "      <th>Latitude</th>\n",
       "      <th>Longitude</th>\n",
       "      <th>Number of Victim Fatalities</th>\n",
       "      <th>Total Number of Fatalities</th>\n",
       "      <th>...</th>\n",
       "      <th>History of Mental Illness - General</th>\n",
       "      <th>Data Source 1</th>\n",
       "      <th>Data Source 2</th>\n",
       "      <th>Data Source 3</th>\n",
       "      <th>Data Source 4</th>\n",
       "      <th>Data Source 5</th>\n",
       "      <th>Data Source 6</th>\n",
       "      <th>Data Source 7</th>\n",
       "      <th>Military Experience</th>\n",
       "      <th>Class</th>\n",
       "    </tr>\n",
       "  </thead>\n",
       "  <tbody>\n",
       "    <tr>\n",
       "      <th>0</th>\n",
       "      <td>1</td>\n",
       "      <td>University of Texas at Austin</td>\n",
       "      <td>Austin, Texas</td>\n",
       "      <td>Austin</td>\n",
       "      <td>Texas</td>\n",
       "      <td>TX</td>\n",
       "      <td>30.198887</td>\n",
       "      <td>-97.844159</td>\n",
       "      <td>16</td>\n",
       "      <td>17</td>\n",
       "      <td>...</td>\n",
       "      <td>Yes</td>\n",
       "      <td>http://en.wikipedia.org/wiki/Charles_Whitman</td>\n",
       "      <td>Lexington Examiner (KY) - September 23, 2012</td>\n",
       "      <td>http://news.google.com/newspapers?id=lkk0AAAAI...</td>\n",
       "      <td>http://news.google.com/newspapers?id=PPUjAAAAI...</td>\n",
       "      <td>http://books.google.com/books?id=ClYEAAAAMBAJ&amp;...</td>\n",
       "      <td>NaN</td>\n",
       "      <td>NaN</td>\n",
       "      <td>Yes</td>\n",
       "      <td>SPK</td>\n",
       "    </tr>\n",
       "    <tr>\n",
       "      <th>1</th>\n",
       "      <td>2</td>\n",
       "      <td>Rose-Mar College of Beauty</td>\n",
       "      <td>Mesa, Arizona</td>\n",
       "      <td>Mesa</td>\n",
       "      <td>Arizona</td>\n",
       "      <td>AZ</td>\n",
       "      <td>33.422687</td>\n",
       "      <td>-111.816320</td>\n",
       "      <td>5</td>\n",
       "      <td>5</td>\n",
       "      <td>...</td>\n",
       "      <td>Yes</td>\n",
       "      <td>\"Slaughter In The College Of Beauty.\" Time 88....</td>\n",
       "      <td>Section: Lexington True Crime Examiner</td>\n",
       "      <td>http://www.nydailynews.com/news/crime/beauty-s...</td>\n",
       "      <td>http://books.google.com/books?id=Cre7qsswRiwC&amp;...</td>\n",
       "      <td>NaN</td>\n",
       "      <td>NaN</td>\n",
       "      <td>NaN</td>\n",
       "      <td>Unknown</td>\n",
       "      <td>MS</td>\n",
       "    </tr>\n",
       "    <tr>\n",
       "      <th>2</th>\n",
       "      <td>3</td>\n",
       "      <td>New Orleans Police Shootings</td>\n",
       "      <td>New Orleans, Louisiana</td>\n",
       "      <td>New Orleans</td>\n",
       "      <td>Louisiana</td>\n",
       "      <td>LA</td>\n",
       "      <td>30.068724</td>\n",
       "      <td>-89.931474</td>\n",
       "      <td>9</td>\n",
       "      <td>10</td>\n",
       "      <td>...</td>\n",
       "      <td>Yes</td>\n",
       "      <td>http://news.google.com/newspapers?nid=1144&amp;dat...</td>\n",
       "      <td>http://theadvocate.com/home/4828836-125/rampag...</td>\n",
       "      <td>http://www.trutv.com/library/crime/notorious_m...</td>\n",
       "      <td>http://books.google.com/books?id=TfEDmROcZwEC&amp;...</td>\n",
       "      <td>NaN</td>\n",
       "      <td>NaN</td>\n",
       "      <td>NaN</td>\n",
       "      <td>Unknown</td>\n",
       "      <td>SPK</td>\n",
       "    </tr>\n",
       "    <tr>\n",
       "      <th>3</th>\n",
       "      <td>4</td>\n",
       "      <td>Clara Barton Elementary School</td>\n",
       "      <td>Chicago, Illinois</td>\n",
       "      <td>Chicago</td>\n",
       "      <td>Illinois</td>\n",
       "      <td>IL</td>\n",
       "      <td>41.839280</td>\n",
       "      <td>-87.688181</td>\n",
       "      <td>1</td>\n",
       "      <td>1</td>\n",
       "      <td>...</td>\n",
       "      <td>Yes</td>\n",
       "      <td>http://news.google.com/newspapers?nid=1338&amp;dat...</td>\n",
       "      <td>http://news.google.com/newspapers?nid=1144&amp;dat...</td>\n",
       "      <td>http://www.leagle.com/xmlResult.aspx?page=1&amp;xm...</td>\n",
       "      <td>NaN</td>\n",
       "      <td>NaN</td>\n",
       "      <td>NaN</td>\n",
       "      <td>NaN</td>\n",
       "      <td>Unknown</td>\n",
       "      <td>MS</td>\n",
       "    </tr>\n",
       "    <tr>\n",
       "      <th>4</th>\n",
       "      <td>5</td>\n",
       "      <td>Olean High School</td>\n",
       "      <td>Olean, New York</td>\n",
       "      <td>Olean</td>\n",
       "      <td>New York</td>\n",
       "      <td>NY</td>\n",
       "      <td>42.081854</td>\n",
       "      <td>-78.432139</td>\n",
       "      <td>3</td>\n",
       "      <td>3</td>\n",
       "      <td>...</td>\n",
       "      <td>No</td>\n",
       "      <td>http://buffalo.ynn.com/content/top_stories/622...</td>\n",
       "      <td>School Shootings: a History Part One of a seri...</td>\n",
       "      <td>http://www.newswithviews.com/Erica/Carle10.htm</td>\n",
       "      <td>http://books.google.com/books?id=ZuKoSskEWyIC&amp;...</td>\n",
       "      <td>\"Olean High School Shooting\". Larrie Benton Za...</td>\n",
       "      <td>NaN</td>\n",
       "      <td>NaN</td>\n",
       "      <td>Unknown</td>\n",
       "      <td>MS</td>\n",
       "    </tr>\n",
       "  </tbody>\n",
       "</table>\n",
       "<p>5 rows × 49 columns</p>\n",
       "</div>"
      ],
      "text/plain": [
       "   CaseID                           Title                Location  \\\n",
       "0       1   University of Texas at Austin           Austin, Texas   \n",
       "1       2      Rose-Mar College of Beauty           Mesa, Arizona   \n",
       "2       3    New Orleans Police Shootings  New Orleans, Louisiana   \n",
       "3       4  Clara Barton Elementary School       Chicago, Illinois   \n",
       "4       5               Olean High School         Olean, New York   \n",
       "\n",
       "          City      State Abbrev   Latitude   Longitude  \\\n",
       "0       Austin      Texas     TX  30.198887  -97.844159   \n",
       "1         Mesa    Arizona     AZ  33.422687 -111.816320   \n",
       "2  New Orleans  Louisiana     LA  30.068724  -89.931474   \n",
       "3      Chicago   Illinois     IL  41.839280  -87.688181   \n",
       "4        Olean   New York     NY  42.081854  -78.432139   \n",
       "\n",
       "   Number of Victim Fatalities  Total Number of Fatalities  ...   \\\n",
       "0                           16                          17  ...    \n",
       "1                            5                           5  ...    \n",
       "2                            9                          10  ...    \n",
       "3                            1                           1  ...    \n",
       "4                            3                           3  ...    \n",
       "\n",
       "   History of Mental Illness - General  \\\n",
       "0                                  Yes   \n",
       "1                                  Yes   \n",
       "2                                  Yes   \n",
       "3                                  Yes   \n",
       "4                                   No   \n",
       "\n",
       "                                       Data Source 1  \\\n",
       "0       http://en.wikipedia.org/wiki/Charles_Whitman   \n",
       "1  \"Slaughter In The College Of Beauty.\" Time 88....   \n",
       "2  http://news.google.com/newspapers?nid=1144&dat...   \n",
       "3  http://news.google.com/newspapers?nid=1338&dat...   \n",
       "4  http://buffalo.ynn.com/content/top_stories/622...   \n",
       "\n",
       "                                       Data Source 2  \\\n",
       "0       Lexington Examiner (KY) - September 23, 2012   \n",
       "1             Section: Lexington True Crime Examiner   \n",
       "2  http://theadvocate.com/home/4828836-125/rampag...   \n",
       "3  http://news.google.com/newspapers?nid=1144&dat...   \n",
       "4  School Shootings: a History Part One of a seri...   \n",
       "\n",
       "                                       Data Source 3  \\\n",
       "0  http://news.google.com/newspapers?id=lkk0AAAAI...   \n",
       "1  http://www.nydailynews.com/news/crime/beauty-s...   \n",
       "2  http://www.trutv.com/library/crime/notorious_m...   \n",
       "3  http://www.leagle.com/xmlResult.aspx?page=1&xm...   \n",
       "4     http://www.newswithviews.com/Erica/Carle10.htm   \n",
       "\n",
       "                                       Data Source 4  \\\n",
       "0  http://news.google.com/newspapers?id=PPUjAAAAI...   \n",
       "1  http://books.google.com/books?id=Cre7qsswRiwC&...   \n",
       "2  http://books.google.com/books?id=TfEDmROcZwEC&...   \n",
       "3                                                NaN   \n",
       "4  http://books.google.com/books?id=ZuKoSskEWyIC&...   \n",
       "\n",
       "                                       Data Source 5 Data Source 6  \\\n",
       "0  http://books.google.com/books?id=ClYEAAAAMBAJ&...           NaN   \n",
       "1                                                NaN           NaN   \n",
       "2                                                NaN           NaN   \n",
       "3                                                NaN           NaN   \n",
       "4  \"Olean High School Shooting\". Larrie Benton Za...           NaN   \n",
       "\n",
       "  Data Source 7 Military Experience Class  \n",
       "0           NaN                 Yes   SPK  \n",
       "1           NaN             Unknown    MS  \n",
       "2           NaN             Unknown   SPK  \n",
       "3           NaN             Unknown    MS  \n",
       "4           NaN             Unknown    MS  \n",
       "\n",
       "[5 rows x 49 columns]"
      ]
     },
     "execution_count": 147,
     "metadata": {},
     "output_type": "execute_result"
    }
   ],
   "source": [
    "msa_df = pd.read_csv('mass_shooting_events_stanford_msa_release_06142016_ks.csv')\n",
    "msa_df.head()"
   ]
  },
  {
   "cell_type": "code",
   "execution_count": 148,
   "metadata": {},
   "outputs": [
    {
     "data": {
      "text/plain": [
       "Index(['CaseID', 'Title', 'Location', 'City', 'State', 'Abbrev', 'Latitude',\n",
       "       'Longitude', 'Number of Victim Fatalities',\n",
       "       'Total Number of Fatalities', 'Number of Victims Injured',\n",
       "       'Total Number of Victims', 'Description', 'Date', 'Day of Week',\n",
       "       'Date - Detailed', 'Shooter Name', 'Shooter Age(s)',\n",
       "       'Average Shooter Age', 'Shooter Sex', 'Shooter Race',\n",
       "       'Type of Gun - Detailed', 'Type of Gun - General', 'Number of Shotguns',\n",
       "       'Number of Rifles', 'Number of Handguns', 'Total Number of Guns',\n",
       "       'Number of Automatic Guns', 'Number of Semi-Automatic Guns',\n",
       "       'Fate of Shooter at the scene', 'Shooter's Cause of Death',\n",
       "       'School Related', 'Place Type', 'Relationship to Incident Location',\n",
       "       'Targeted Victim/s - Detailed', 'Targeted Victim/s - General',\n",
       "       'Possible Motive - Detailed', 'Possible Motive - General',\n",
       "       'History of Mental Illness - Detailed',\n",
       "       'History of Mental Illness - General', 'Data Source 1', 'Data Source 2',\n",
       "       'Data Source 3', 'Data Source 4', 'Data Source 5', 'Data Source 6',\n",
       "       'Data Source 7', 'Military Experience', 'Class'],\n",
       "      dtype='object')"
      ]
     },
     "execution_count": 148,
     "metadata": {},
     "output_type": "execute_result"
    }
   ],
   "source": [
    "msa_df.columns"
   ]
  },
  {
   "cell_type": "code",
   "execution_count": 149,
   "metadata": {
    "scrolled": true
   },
   "outputs": [
    {
     "data": {
      "text/plain": [
       "array(['White American or European American',\n",
       "       'Black American or African American', 'Unknown', 'Asian American',\n",
       "       'Some other race', 'Native American or Alaska Native',\n",
       "       'Asian American/Some other race', 'Two or more races',\n",
       "       'White American or European American/Some other Race',\n",
       "       'Black American or African American/Unknown'], dtype=object)"
      ]
     },
     "execution_count": 149,
     "metadata": {},
     "output_type": "execute_result"
    }
   ],
   "source": [
    "msa_df['Shooter Race'].unique()"
   ]
  },
  {
   "cell_type": "code",
   "execution_count": 150,
   "metadata": {},
   "outputs": [
    {
     "data": {
      "text/html": [
       "<div>\n",
       "<style scoped>\n",
       "    .dataframe tbody tr th:only-of-type {\n",
       "        vertical-align: middle;\n",
       "    }\n",
       "\n",
       "    .dataframe tbody tr th {\n",
       "        vertical-align: top;\n",
       "    }\n",
       "\n",
       "    .dataframe thead th {\n",
       "        text-align: right;\n",
       "    }\n",
       "</style>\n",
       "<table border=\"1\" class=\"dataframe\">\n",
       "  <thead>\n",
       "    <tr style=\"text-align: right;\">\n",
       "      <th></th>\n",
       "      <th>CaseID</th>\n",
       "      <th>Title</th>\n",
       "      <th>Location</th>\n",
       "      <th>City</th>\n",
       "      <th>State</th>\n",
       "      <th>Abbrev</th>\n",
       "      <th>Latitude</th>\n",
       "      <th>Longitude</th>\n",
       "      <th>Number of Victim Fatalities</th>\n",
       "      <th>Total Number of Fatalities</th>\n",
       "      <th>...</th>\n",
       "      <th>History of Mental Illness - General</th>\n",
       "      <th>Data Source 1</th>\n",
       "      <th>Data Source 2</th>\n",
       "      <th>Data Source 3</th>\n",
       "      <th>Data Source 4</th>\n",
       "      <th>Data Source 5</th>\n",
       "      <th>Data Source 6</th>\n",
       "      <th>Data Source 7</th>\n",
       "      <th>Military Experience</th>\n",
       "      <th>Class</th>\n",
       "    </tr>\n",
       "  </thead>\n",
       "  <tbody>\n",
       "    <tr>\n",
       "      <th>0</th>\n",
       "      <td>1</td>\n",
       "      <td>University of Texas at Austin</td>\n",
       "      <td>Austin, Texas</td>\n",
       "      <td>Austin</td>\n",
       "      <td>Texas</td>\n",
       "      <td>TX</td>\n",
       "      <td>30.198887</td>\n",
       "      <td>-97.844159</td>\n",
       "      <td>16</td>\n",
       "      <td>17</td>\n",
       "      <td>...</td>\n",
       "      <td>Yes</td>\n",
       "      <td>http://en.wikipedia.org/wiki/Charles_Whitman</td>\n",
       "      <td>Lexington Examiner (KY) - September 23, 2012</td>\n",
       "      <td>http://news.google.com/newspapers?id=lkk0AAAAI...</td>\n",
       "      <td>http://news.google.com/newspapers?id=PPUjAAAAI...</td>\n",
       "      <td>http://books.google.com/books?id=ClYEAAAAMBAJ&amp;...</td>\n",
       "      <td>NaN</td>\n",
       "      <td>NaN</td>\n",
       "      <td>Yes</td>\n",
       "      <td>SPK</td>\n",
       "    </tr>\n",
       "    <tr>\n",
       "      <th>1</th>\n",
       "      <td>2</td>\n",
       "      <td>Rose-Mar College of Beauty</td>\n",
       "      <td>Mesa, Arizona</td>\n",
       "      <td>Mesa</td>\n",
       "      <td>Arizona</td>\n",
       "      <td>AZ</td>\n",
       "      <td>33.422687</td>\n",
       "      <td>-111.816320</td>\n",
       "      <td>5</td>\n",
       "      <td>5</td>\n",
       "      <td>...</td>\n",
       "      <td>Yes</td>\n",
       "      <td>\"Slaughter In The College Of Beauty.\" Time 88....</td>\n",
       "      <td>Section: Lexington True Crime Examiner</td>\n",
       "      <td>http://www.nydailynews.com/news/crime/beauty-s...</td>\n",
       "      <td>http://books.google.com/books?id=Cre7qsswRiwC&amp;...</td>\n",
       "      <td>NaN</td>\n",
       "      <td>NaN</td>\n",
       "      <td>NaN</td>\n",
       "      <td>Unknown</td>\n",
       "      <td>MS</td>\n",
       "    </tr>\n",
       "    <tr>\n",
       "      <th>2</th>\n",
       "      <td>3</td>\n",
       "      <td>New Orleans Police Shootings</td>\n",
       "      <td>New Orleans, Louisiana</td>\n",
       "      <td>New Orleans</td>\n",
       "      <td>Louisiana</td>\n",
       "      <td>LA</td>\n",
       "      <td>30.068724</td>\n",
       "      <td>-89.931474</td>\n",
       "      <td>9</td>\n",
       "      <td>10</td>\n",
       "      <td>...</td>\n",
       "      <td>Yes</td>\n",
       "      <td>http://news.google.com/newspapers?nid=1144&amp;dat...</td>\n",
       "      <td>http://theadvocate.com/home/4828836-125/rampag...</td>\n",
       "      <td>http://www.trutv.com/library/crime/notorious_m...</td>\n",
       "      <td>http://books.google.com/books?id=TfEDmROcZwEC&amp;...</td>\n",
       "      <td>NaN</td>\n",
       "      <td>NaN</td>\n",
       "      <td>NaN</td>\n",
       "      <td>Unknown</td>\n",
       "      <td>SPK</td>\n",
       "    </tr>\n",
       "    <tr>\n",
       "      <th>3</th>\n",
       "      <td>4</td>\n",
       "      <td>Clara Barton Elementary School</td>\n",
       "      <td>Chicago, Illinois</td>\n",
       "      <td>Chicago</td>\n",
       "      <td>Illinois</td>\n",
       "      <td>IL</td>\n",
       "      <td>41.839280</td>\n",
       "      <td>-87.688181</td>\n",
       "      <td>1</td>\n",
       "      <td>1</td>\n",
       "      <td>...</td>\n",
       "      <td>Yes</td>\n",
       "      <td>http://news.google.com/newspapers?nid=1338&amp;dat...</td>\n",
       "      <td>http://news.google.com/newspapers?nid=1144&amp;dat...</td>\n",
       "      <td>http://www.leagle.com/xmlResult.aspx?page=1&amp;xm...</td>\n",
       "      <td>NaN</td>\n",
       "      <td>NaN</td>\n",
       "      <td>NaN</td>\n",
       "      <td>NaN</td>\n",
       "      <td>Unknown</td>\n",
       "      <td>MS</td>\n",
       "    </tr>\n",
       "    <tr>\n",
       "      <th>4</th>\n",
       "      <td>5</td>\n",
       "      <td>Olean High School</td>\n",
       "      <td>Olean, New York</td>\n",
       "      <td>Olean</td>\n",
       "      <td>New York</td>\n",
       "      <td>NY</td>\n",
       "      <td>42.081854</td>\n",
       "      <td>-78.432139</td>\n",
       "      <td>3</td>\n",
       "      <td>3</td>\n",
       "      <td>...</td>\n",
       "      <td>No</td>\n",
       "      <td>http://buffalo.ynn.com/content/top_stories/622...</td>\n",
       "      <td>School Shootings: a History Part One of a seri...</td>\n",
       "      <td>http://www.newswithviews.com/Erica/Carle10.htm</td>\n",
       "      <td>http://books.google.com/books?id=ZuKoSskEWyIC&amp;...</td>\n",
       "      <td>\"Olean High School Shooting\". Larrie Benton Za...</td>\n",
       "      <td>NaN</td>\n",
       "      <td>NaN</td>\n",
       "      <td>Unknown</td>\n",
       "      <td>MS</td>\n",
       "    </tr>\n",
       "  </tbody>\n",
       "</table>\n",
       "<p>5 rows × 49 columns</p>\n",
       "</div>"
      ],
      "text/plain": [
       "   CaseID                           Title                Location  \\\n",
       "0       1   University of Texas at Austin           Austin, Texas   \n",
       "1       2      Rose-Mar College of Beauty           Mesa, Arizona   \n",
       "2       3    New Orleans Police Shootings  New Orleans, Louisiana   \n",
       "3       4  Clara Barton Elementary School       Chicago, Illinois   \n",
       "4       5               Olean High School         Olean, New York   \n",
       "\n",
       "          City      State Abbrev   Latitude   Longitude  \\\n",
       "0       Austin      Texas     TX  30.198887  -97.844159   \n",
       "1         Mesa    Arizona     AZ  33.422687 -111.816320   \n",
       "2  New Orleans  Louisiana     LA  30.068724  -89.931474   \n",
       "3      Chicago   Illinois     IL  41.839280  -87.688181   \n",
       "4        Olean   New York     NY  42.081854  -78.432139   \n",
       "\n",
       "   Number of Victim Fatalities  Total Number of Fatalities  ...   \\\n",
       "0                           16                          17  ...    \n",
       "1                            5                           5  ...    \n",
       "2                            9                          10  ...    \n",
       "3                            1                           1  ...    \n",
       "4                            3                           3  ...    \n",
       "\n",
       "   History of Mental Illness - General  \\\n",
       "0                                  Yes   \n",
       "1                                  Yes   \n",
       "2                                  Yes   \n",
       "3                                  Yes   \n",
       "4                                   No   \n",
       "\n",
       "                                       Data Source 1  \\\n",
       "0       http://en.wikipedia.org/wiki/Charles_Whitman   \n",
       "1  \"Slaughter In The College Of Beauty.\" Time 88....   \n",
       "2  http://news.google.com/newspapers?nid=1144&dat...   \n",
       "3  http://news.google.com/newspapers?nid=1338&dat...   \n",
       "4  http://buffalo.ynn.com/content/top_stories/622...   \n",
       "\n",
       "                                       Data Source 2  \\\n",
       "0       Lexington Examiner (KY) - September 23, 2012   \n",
       "1             Section: Lexington True Crime Examiner   \n",
       "2  http://theadvocate.com/home/4828836-125/rampag...   \n",
       "3  http://news.google.com/newspapers?nid=1144&dat...   \n",
       "4  School Shootings: a History Part One of a seri...   \n",
       "\n",
       "                                       Data Source 3  \\\n",
       "0  http://news.google.com/newspapers?id=lkk0AAAAI...   \n",
       "1  http://www.nydailynews.com/news/crime/beauty-s...   \n",
       "2  http://www.trutv.com/library/crime/notorious_m...   \n",
       "3  http://www.leagle.com/xmlResult.aspx?page=1&xm...   \n",
       "4     http://www.newswithviews.com/Erica/Carle10.htm   \n",
       "\n",
       "                                       Data Source 4  \\\n",
       "0  http://news.google.com/newspapers?id=PPUjAAAAI...   \n",
       "1  http://books.google.com/books?id=Cre7qsswRiwC&...   \n",
       "2  http://books.google.com/books?id=TfEDmROcZwEC&...   \n",
       "3                                                NaN   \n",
       "4  http://books.google.com/books?id=ZuKoSskEWyIC&...   \n",
       "\n",
       "                                       Data Source 5 Data Source 6  \\\n",
       "0  http://books.google.com/books?id=ClYEAAAAMBAJ&...           NaN   \n",
       "1                                                NaN           NaN   \n",
       "2                                                NaN           NaN   \n",
       "3                                                NaN           NaN   \n",
       "4  \"Olean High School Shooting\". Larrie Benton Za...           NaN   \n",
       "\n",
       "  Data Source 7 Military Experience Class  \n",
       "0           NaN                 Yes   SPK  \n",
       "1           NaN             Unknown    MS  \n",
       "2           NaN             Unknown   SPK  \n",
       "3           NaN             Unknown    MS  \n",
       "4           NaN             Unknown    MS  \n",
       "\n",
       "[5 rows x 49 columns]"
      ]
     },
     "execution_count": 150,
     "metadata": {},
     "output_type": "execute_result"
    }
   ],
   "source": [
    "msa_df['Shooter Race'] = msa_df['Shooter Race'].replace(\n",
    "    {'White American or European American':'White','Black American or African American':'African American',\n",
    "     'Asian American':'Asian','Unknown':'Other','Some other race':'Other','Asian American/Some other race':'Asian',\n",
    "     'Native American or Alaska Native':'Native American','White American or European American/Some other Race':'White',\n",
    "     'Black American or African American/Unknown':'African American'})\n",
    "msa_df.head()"
   ]
  },
  {
   "cell_type": "code",
   "execution_count": 151,
   "metadata": {},
   "outputs": [
    {
     "data": {
      "text/plain": [
       "array(['White', 'African American', 'Other', 'Asian', 'Native American',\n",
       "       'Two or more races'], dtype=object)"
      ]
     },
     "execution_count": 151,
     "metadata": {},
     "output_type": "execute_result"
    }
   ],
   "source": [
    "msa_df['Shooter Race'].unique()"
   ]
  },
  {
   "cell_type": "code",
   "execution_count": 152,
   "metadata": {},
   "outputs": [
    {
     "data": {
      "text/plain": [
       "Index(['CaseID', 'Title', 'Location', 'City', 'State', 'Abbrev', 'Latitude',\n",
       "       'Longitude', 'Number of Victim Fatalities',\n",
       "       'Total Number of Fatalities', 'Number of Victims Injured',\n",
       "       'Total Number of Victims', 'Description', 'Date', 'Day of Week',\n",
       "       'Date - Detailed', 'Shooter Name', 'Shooter Age(s)',\n",
       "       'Average Shooter Age', 'Shooter Sex', 'Shooter Race',\n",
       "       'Type of Gun - Detailed', 'Type of Gun - General', 'Number of Shotguns',\n",
       "       'Number of Rifles', 'Number of Handguns', 'Total Number of Guns',\n",
       "       'Number of Automatic Guns', 'Number of Semi-Automatic Guns',\n",
       "       'Fate of Shooter at the scene', 'Shooter's Cause of Death',\n",
       "       'School Related', 'Place Type', 'Relationship to Incident Location',\n",
       "       'Targeted Victim/s - Detailed', 'Targeted Victim/s - General',\n",
       "       'Possible Motive - Detailed', 'Possible Motive - General',\n",
       "       'History of Mental Illness - Detailed',\n",
       "       'History of Mental Illness - General', 'Data Source 1', 'Data Source 2',\n",
       "       'Data Source 3', 'Data Source 4', 'Data Source 5', 'Data Source 6',\n",
       "       'Data Source 7', 'Military Experience', 'Class'],\n",
       "      dtype='object')"
      ]
     },
     "execution_count": 152,
     "metadata": {},
     "output_type": "execute_result"
    }
   ],
   "source": [
    "test = msa_df[msa_df['Date'].str.contains('2014|2015|2016')]\n",
    "test.columns"
   ]
  },
  {
   "cell_type": "code",
   "execution_count": 167,
   "metadata": {},
   "outputs": [],
   "source": [
    "test_df = test.groupby('Shooter Race').count()['CaseID']"
   ]
  },
  {
   "cell_type": "code",
   "execution_count": 168,
   "metadata": {},
   "outputs": [],
   "source": [
    "test_df = test_df.sort_values()"
   ]
  },
  {
   "cell_type": "code",
   "execution_count": 146,
   "metadata": {},
   "outputs": [],
   "source": [
    "#msa_2015_cnt = test[test['Date'].str.contains('2015')]"
   ]
  },
  {
   "cell_type": "code",
   "execution_count": 169,
   "metadata": {},
   "outputs": [
    {
     "data": {
      "text/plain": [
       "Index(['Native American', 'Two or more races', 'Asian', 'African American',\n",
       "       'White', 'Other'],\n",
       "      dtype='object', name='Shooter Race')"
      ]
     },
     "execution_count": 169,
     "metadata": {},
     "output_type": "execute_result"
    }
   ],
   "source": [
    "test_df.keys()"
   ]
  },
  {
   "cell_type": "code",
   "execution_count": 212,
   "metadata": {
    "scrolled": true
   },
   "outputs": [
    {
     "data": {
      "image/png": "[encoded data removed]",
      "text/plain": [
       "<matplotlib.figure.Figure at 0x1cd6563fc50>"
      ]
     },
     "metadata": {},
     "output_type": "display_data"
    }
   ],
   "source": [
    "plt.figure(figsize=(10,10))\n",
    "#sns.set_context(\"talk\", font_scale=1.1)\n",
    "#plt.tight_layout(pad=0.1, w_pad=0.1, h_pad=.5)\n",
    "labels = test_df.keys()\n",
    "\n",
    "# Tells matplotlib to seperate the \"Python\" section from the others meaning the exploding part\n",
    "colors = [\"yellow\", \"gold\", \"lightgreen\", \"lightcoral\", \"lightblue\", \"magenta\"]\n",
    "\n",
    "plt.pie(test_df, labels=labels, colors=colors, shadow=True, autopct = \"%1.1f%%\") #startangle=140)\n",
    "plt.legend(bbox_to_anchor=(1,1), loc=\"upper left\")\n",
    "plt.title(\"2014-2016 Mass Shooting Ethnicity Distribution in USA\")\n",
    "plt.axis('equal')\n",
    "\n",
    "plt.savefig(\"2014-2016 Mass Shooting Ethnicity Distribution in USA.png\", transparent=True, bbox_inches='tight', pad_inches=0)\n",
    "plt.show()"
   ]
  },
  {
   "cell_type": "code",
   "execution_count": 179,
   "metadata": {},
   "outputs": [
    {
     "data": {
      "text/plain": [
       "'C:\\\\Users\\\\kryst\\\\Desktop\\\\TeamProject1_Shooter\\\\KS'"
      ]
     },
     "execution_count": 179,
     "metadata": {},
     "output_type": "execute_result"
    }
   ],
   "source": [
    "import os\n",
    "os.getcwd()"
   ]
  },
  {
   "cell_type": "markdown",
   "metadata": {},
   "source": [
    "### Combine 2014-2016 Census data & then plot in Pie chart"
   ]
  },
  {
   "cell_type": "code",
   "execution_count": 116,
   "metadata": {},
   "outputs": [
    {
     "data": {
      "text/plain": [
       "(153, 16)"
      ]
     },
     "execution_count": 116,
     "metadata": {},
     "output_type": "execute_result"
    }
   ],
   "source": [
    "l = ['2014', '2015', '2016']\n",
    "df = pd.DataFrame()\n",
    "for i in l:\n",
    "    df = df.append(pd.read_csv(f'data_cleaned/race_by_state_{i}.csv'), ignore_index = True)\n",
    "df.shape"
   ]
  },
  {
   "cell_type": "code",
   "execution_count": 119,
   "metadata": {},
   "outputs": [
    {
     "data": {
      "text/plain": [
       "Index(['State', 'Total', 'White', 'African American', 'Native American',\n",
       "       'Asian', 'Pacific Islander', 'Other', 'Two or more races', '% White',\n",
       "       '% African American', '% Native American', '% Asian',\n",
       "       '% Pacific Islander', '% Other', '% Two or more races'],\n",
       "      dtype='object')"
      ]
     },
     "execution_count": 119,
     "metadata": {},
     "output_type": "execute_result"
    }
   ],
   "source": [
    "df.columns"
   ]
  },
  {
   "cell_type": "code",
   "execution_count": null,
   "metadata": {},
   "outputs": [],
   "source": []
  },
  {
   "cell_type": "code",
   "execution_count": 120,
   "metadata": {},
   "outputs": [
    {
     "data": {
      "text/html": [
       "<div>\n",
       "<style scoped>\n",
       "    .dataframe tbody tr th:only-of-type {\n",
       "        vertical-align: middle;\n",
       "    }\n",
       "\n",
       "    .dataframe tbody tr th {\n",
       "        vertical-align: top;\n",
       "    }\n",
       "\n",
       "    .dataframe thead th {\n",
       "        text-align: right;\n",
       "    }\n",
       "</style>\n",
       "<table border=\"1\" class=\"dataframe\">\n",
       "  <thead>\n",
       "    <tr style=\"text-align: right;\">\n",
       "      <th></th>\n",
       "      <th>State</th>\n",
       "      <th>Total</th>\n",
       "      <th>White</th>\n",
       "      <th>African American</th>\n",
       "      <th>Native American</th>\n",
       "      <th>Asian</th>\n",
       "      <th>Other</th>\n",
       "      <th>Two or more races</th>\n",
       "      <th>% White</th>\n",
       "      <th>% African American</th>\n",
       "      <th>% Native American</th>\n",
       "      <th>% Asian</th>\n",
       "      <th>% Pacific Islander</th>\n",
       "      <th>% Other</th>\n",
       "      <th>% Two or more races</th>\n",
       "    </tr>\n",
       "  </thead>\n",
       "  <tbody>\n",
       "    <tr>\n",
       "      <th>0</th>\n",
       "      <td>Alabama</td>\n",
       "      <td>4849377</td>\n",
       "      <td>3320273</td>\n",
       "      <td>1291826</td>\n",
       "      <td>22553</td>\n",
       "      <td>58456</td>\n",
       "      <td>71305</td>\n",
       "      <td>84964</td>\n",
       "      <td>0.684680</td>\n",
       "      <td>0.266390</td>\n",
       "      <td>0.004651</td>\n",
       "      <td>0.012054</td>\n",
       "      <td>0.000298</td>\n",
       "      <td>0.014406</td>\n",
       "      <td>0.017521</td>\n",
       "    </tr>\n",
       "    <tr>\n",
       "      <th>1</th>\n",
       "      <td>Alaska</td>\n",
       "      <td>736732</td>\n",
       "      <td>483584</td>\n",
       "      <td>24790</td>\n",
       "      <td>103273</td>\n",
       "      <td>43915</td>\n",
       "      <td>18362</td>\n",
       "      <td>62808</td>\n",
       "      <td>0.656391</td>\n",
       "      <td>0.033649</td>\n",
       "      <td>0.140177</td>\n",
       "      <td>0.059608</td>\n",
       "      <td>0.011395</td>\n",
       "      <td>0.013529</td>\n",
       "      <td>0.085252</td>\n",
       "    </tr>\n",
       "    <tr>\n",
       "      <th>2</th>\n",
       "      <td>Arizona</td>\n",
       "      <td>6731484</td>\n",
       "      <td>5273335</td>\n",
       "      <td>280518</td>\n",
       "      <td>294757</td>\n",
       "      <td>212116</td>\n",
       "      <td>446655</td>\n",
       "      <td>224103</td>\n",
       "      <td>0.783384</td>\n",
       "      <td>0.041673</td>\n",
       "      <td>0.043788</td>\n",
       "      <td>0.031511</td>\n",
       "      <td>0.001890</td>\n",
       "      <td>0.064463</td>\n",
       "      <td>0.033292</td>\n",
       "    </tr>\n",
       "    <tr>\n",
       "      <th>3</th>\n",
       "      <td>Arkansas</td>\n",
       "      <td>2966369</td>\n",
       "      <td>2322472</td>\n",
       "      <td>468231</td>\n",
       "      <td>17091</td>\n",
       "      <td>36555</td>\n",
       "      <td>57533</td>\n",
       "      <td>64487</td>\n",
       "      <td>0.782934</td>\n",
       "      <td>0.157847</td>\n",
       "      <td>0.005762</td>\n",
       "      <td>0.012323</td>\n",
       "      <td>0.002410</td>\n",
       "      <td>0.016985</td>\n",
       "      <td>0.021739</td>\n",
       "    </tr>\n",
       "    <tr>\n",
       "      <th>4</th>\n",
       "      <td>California</td>\n",
       "      <td>38802500</td>\n",
       "      <td>23814044</td>\n",
       "      <td>2259681</td>\n",
       "      <td>286631</td>\n",
       "      <td>5398090</td>\n",
       "      <td>5264265</td>\n",
       "      <td>1779789</td>\n",
       "      <td>0.613724</td>\n",
       "      <td>0.058235</td>\n",
       "      <td>0.007387</td>\n",
       "      <td>0.139117</td>\n",
       "      <td>0.003868</td>\n",
       "      <td>0.131801</td>\n",
       "      <td>0.045868</td>\n",
       "    </tr>\n",
       "  </tbody>\n",
       "</table>\n",
       "</div>"
      ],
      "text/plain": [
       "        State     Total     White  African American  Native American    Asian  \\\n",
       "0     Alabama   4849377   3320273           1291826            22553    58456   \n",
       "1      Alaska    736732    483584             24790           103273    43915   \n",
       "2     Arizona   6731484   5273335            280518           294757   212116   \n",
       "3    Arkansas   2966369   2322472            468231            17091    36555   \n",
       "4  California  38802500  23814044           2259681           286631  5398090   \n",
       "\n",
       "     Other  Two or more races   % White  % African American  \\\n",
       "0    71305              84964  0.684680            0.266390   \n",
       "1    18362              62808  0.656391            0.033649   \n",
       "2   446655             224103  0.783384            0.041673   \n",
       "3    57533              64487  0.782934            0.157847   \n",
       "4  5264265            1779789  0.613724            0.058235   \n",
       "\n",
       "   % Native American   % Asian  % Pacific Islander   % Other  \\\n",
       "0           0.004651  0.012054            0.000298  0.014406   \n",
       "1           0.140177  0.059608            0.011395  0.013529   \n",
       "2           0.043788  0.031511            0.001890  0.064463   \n",
       "3           0.005762  0.012323            0.002410  0.016985   \n",
       "4           0.007387  0.139117            0.003868  0.131801   \n",
       "\n",
       "   % Two or more races  \n",
       "0             0.017521  \n",
       "1             0.085252  \n",
       "2             0.033292  \n",
       "3             0.021739  \n",
       "4             0.045868  "
      ]
     },
     "execution_count": 120,
     "metadata": {},
     "output_type": "execute_result"
    }
   ],
   "source": [
    "df['Other'] = df['Pacific Islander'] + df['Other']\n",
    "df.drop(['Pacific Islander'], axis = 1, inplace = True)\n",
    "df.head()"
   ]
  },
  {
   "cell_type": "code",
   "execution_count": 121,
   "metadata": {},
   "outputs": [],
   "source": [
    "racetotals = {\"Total\": df.Total.sum(),\n",
    "             \"White\": df.White.sum(),\n",
    "             \"African American\": df[\"African American\"].sum(),\n",
    "             \"Native American\": df[\"Native American\"].sum(),\n",
    "              \"Asian\": df.Asian.sum(),\n",
    "              \"Other\": df.Other.sum(),\n",
    "              \"Two or more races\": df[\"Two or more races\"].sum()}"
   ]
  },
  {
   "cell_type": "code",
   "execution_count": 122,
   "metadata": {},
   "outputs": [
    {
     "data": {
      "text/plain": [
       "{'African American': 121967712,\n",
       " 'Asian': 51517672,\n",
       " 'Native American': 7875362,\n",
       " 'Other': 48481643,\n",
       " 'Total': 963403392,\n",
       " 'Two or more races': 30013736,\n",
       " 'White': 703547267}"
      ]
     },
     "execution_count": 122,
     "metadata": {},
     "output_type": "execute_result"
    }
   ],
   "source": [
    "racetotals"
   ]
  },
  {
   "cell_type": "code",
   "execution_count": 123,
   "metadata": {},
   "outputs": [
    {
     "data": {
      "text/plain": [
       "963403392"
      ]
     },
     "execution_count": 123,
     "metadata": {},
     "output_type": "execute_result"
    }
   ],
   "source": [
    "racetotals.pop('Total')"
   ]
  },
  {
   "cell_type": "code",
   "execution_count": 124,
   "metadata": {},
   "outputs": [
    {
     "data": {
      "text/plain": [
       "{'African American': 121967712,\n",
       " 'Asian': 51517672,\n",
       " 'Native American': 7875362,\n",
       " 'Other': 48481643,\n",
       " 'Two or more races': 30013736,\n",
       " 'White': 703547267}"
      ]
     },
     "execution_count": 124,
     "metadata": {},
     "output_type": "execute_result"
    }
   ],
   "source": [
    "racetotals"
   ]
  },
  {
   "cell_type": "code",
   "execution_count": 125,
   "metadata": {},
   "outputs": [
    {
     "data": {
      "text/plain": [
       "dict_keys(['White', 'African American', 'Native American', 'Asian', 'Other', 'Two or more races'])"
      ]
     },
     "execution_count": 125,
     "metadata": {},
     "output_type": "execute_result"
    }
   ],
   "source": [
    "racetotals.keys()"
   ]
  },
  {
   "cell_type": "code",
   "execution_count": 126,
   "metadata": {},
   "outputs": [
    {
     "data": {
      "text/plain": [
       "dict_values([703547267, 121967712, 7875362, 51517672, 48481643, 30013736])"
      ]
     },
     "execution_count": 126,
     "metadata": {},
     "output_type": "execute_result"
    }
   ],
   "source": [
    "racetotals.values()"
   ]
  },
  {
   "cell_type": "code",
   "execution_count": 215,
   "metadata": {},
   "outputs": [
    {
     "data": {
      "image/png": "[encoded data removed]",
      "text/plain": [
       "<matplotlib.figure.Figure at 0x1cd657a5f28>"
      ]
     },
     "metadata": {},
     "output_type": "display_data"
    }
   ],
   "source": [
    "labels = racetotals.keys()\n",
    "\n",
    "#sizes = [185, 172, 100, 110]\n",
    "plt.figure(figsize = (10,10))\n",
    "# Tells matplotlib to seperate the \"Python\" section from the others meaning the exploding part\n",
    "colors = [\"lightblue\", \"lightcoral\", \"yellow\", \"lightgreen\",\"magenta\",\"gold\"]\n",
    "\n",
    "plt.pie(racetotals.values(), labels=labels, colors=colors, shadow=True, autopct = \"%1.1f%%\") #startangle=140)\n",
    "plt.title(\"2014-2016 Ethnicity Distribution in USA\")\n",
    "plt.axis('equal')\n",
    "\n",
    "plt.savefig(\"2014-2016 Ethnicity Distribution in USA.png\", transparent=True, bbox_inches='tight', pad_inches=0)\n",
    "\n",
    "plt.show()"
   ]
  },
  {
   "cell_type": "code",
   "execution_count": null,
   "metadata": {},
   "outputs": [],
   "source": []
  },
  {
   "cell_type": "code",
   "execution_count": null,
   "metadata": {},
   "outputs": [],
   "source": []
  },
  {
   "cell_type": "code",
   "execution_count": null,
   "metadata": {},
   "outputs": [],
   "source": []
  },
  {
   "cell_type": "code",
   "execution_count": null,
   "metadata": {},
   "outputs": [],
   "source": []
  },
  {
   "cell_type": "markdown",
   "metadata": {},
   "source": [
    "# IGNORE STUFF DOWN BELOW"
   ]
  },
  {
   "cell_type": "code",
   "execution_count": 58,
   "metadata": {},
   "outputs": [
    {
     "data": {
      "text/plain": [
       "318857056"
      ]
     },
     "execution_count": 58,
     "metadata": {},
     "output_type": "execute_result"
    }
   ],
   "source": [
    "racebystate2014totals_df='Total',].sum()\n",
    "racebystate2014totals_df"
   ]
  },
  {
   "cell_type": "code",
   "execution_count": null,
   "metadata": {},
   "outputs": [],
   "source": [
    "gun_clean_df = pd.read_csv(gzip.open('data_cleaned/cleanedBigGun.csv.gz'))\n",
    "\n",
    "gun_clean_df.head()"
   ]
  },
  {
   "cell_type": "code",
   "execution_count": null,
   "metadata": {},
   "outputs": [],
   "source": [
    "sns.set(rc={\"figure.figsize\": (10, 10)})\n",
    "\n",
    "injured = msa_df.groupby(\"Abbrev\")"
   ]
  },
  {
   "cell_type": "code",
   "execution_count": null,
   "metadata": {},
   "outputs": [],
   "source": [
    "victims_df = pd.DataFrame(injured[\"Number of Victims Injured\"].sum())\n",
    "victims_df = victims_df.reset_index()\n",
    "victims_df.head()"
   ]
  },
  {
   "cell_type": "code",
   "execution_count": null,
   "metadata": {},
   "outputs": [],
   "source": [
    "victims_df.to_csv(\"victims2.csv\")"
   ]
  },
  {
   "cell_type": "code",
   "execution_count": null,
   "metadata": {},
   "outputs": [],
   "source": [
    "for col in victims_df.columns:\n",
    "    victims_df[col] = victims_df[col].astype(str)\n",
    "\n",
    "scl = [[0.0, 'rgb(242,240,247)'],[0.2, 'rgb(218,218,235)'],[0.4, 'rgb(188,189,220)'],\\\n",
    "            [0.6, 'rgb(158,154,200)'],[0.8, 'rgb(117,107,177)'],[1.0, 'rgb(84,39,143)']]\n",
    "\n",
    "victims_df['text'] = victims_df['Abbrev'] + '<br>' +\\\n",
    "    'Total # Injured/Fatality: '+victims_df['Number of Victims Injured']\n",
    "\n",
    "data = [ dict(\n",
    "        type='choropleth',\n",
    "        colorscale = scl,\n",
    "        autocolorscale = False,\n",
    "        locations = victims_df['Abbrev'],\n",
    "        z = victims_df['Number of Victims Injured'].astype(float),\n",
    "        locationmode = 'USA-states',\n",
    "        text = victims_df['text'],\n",
    "        marker = dict(\n",
    "            line = dict (\n",
    "                color = 'rgb(255,255,255)',\n",
    "                width = 2\n",
    "            ) ),\n",
    "        colorbar = dict(\n",
    "            title = \"Total # Injured/Fatality\")\n",
    "        ) ]\n",
    "\n",
    "layout = dict(\n",
    "        title = 'Mass Shooting in the USA Past 50 Years',\n",
    "        geo = dict(\n",
    "            scope='usa',\n",
    "            projection=dict( type='albers usa' ),\n",
    "            showlakes = True,\n",
    "            lakecolor = 'rgb(255, 255, 255)'),\n",
    "             )\n",
    "    \n",
    "fig = dict(data=data, layout=layout )\n",
    "py.iplot(fig,file=\"victims2.csv\")"
   ]
  },
  {
   "cell_type": "code",
   "execution_count": null,
   "metadata": {},
   "outputs": [],
   "source": []
  },
  {
   "cell_type": "code",
   "execution_count": null,
   "metadata": {},
   "outputs": [],
   "source": []
  },
  {
   "cell_type": "markdown",
   "metadata": {},
   "source": [
    "### Gun Violence Archive: Mass Shootings (2014 - 2018)"
   ]
  },
  {
   "cell_type": "code",
   "execution_count": null,
   "metadata": {},
   "outputs": [],
   "source": [
    "gvms_df = pd.read_csv(gzip.open('data/gun_violence_massshooting_2014-2018.csv.gz'))\n",
    "\n",
    "gvms_df.head()"
   ]
  },
  {
   "cell_type": "markdown",
   "metadata": {},
   "source": [
    "### State Policy Database: Firearms\n",
    "\n",
    "* Source: http://www.statepolicyindex.com/data/\n",
    "* Please note that the first row is dropped, and the second row is used as the header in Pandas. Open the Excel file in Microsoft Excel to see why!"
   ]
  },
  {
   "cell_type": "code",
   "execution_count": null,
   "metadata": {},
   "outputs": [],
   "source": [
    "gun_laws_df = pd.read_excel('data/b_guns_17.xlsx', header=1)\n",
    "\n",
    "gun_laws_df.head()"
   ]
  },
  {
   "cell_type": "code",
   "execution_count": null,
   "metadata": {},
   "outputs": [],
   "source": []
  },
  {
   "cell_type": "code",
   "execution_count": null,
   "metadata": {},
   "outputs": [],
   "source": []
  },
  {
   "cell_type": "code",
   "execution_count": null,
   "metadata": {},
   "outputs": [],
   "source": []
  },
  {
   "cell_type": "code",
   "execution_count": null,
   "metadata": {},
   "outputs": [],
   "source": []
  },
  {
   "cell_type": "code",
   "execution_count": null,
   "metadata": {},
   "outputs": [],
   "source": []
  },
  {
   "cell_type": "code",
   "execution_count": null,
   "metadata": {},
   "outputs": [],
   "source": []
  }
 ],
 "metadata": {
  "kernelspec": {
   "display_name": "Python 3",
   "language": "python",
   "name": "python3"
  },
  "language_info": {
   "codemirror_mode": {
    "name": "ipython",
    "version": 3
   },
   "file_extension": ".py",
   "mimetype": "text/x-python",
   "name": "python",
   "nbconvert_exporter": "python",
   "pygments_lexer": "ipython3",
   "version": "3.6.4"
  }
 },
 "nbformat": 4,
 "nbformat_minor": 2
}
